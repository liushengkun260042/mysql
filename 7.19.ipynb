{
 "cells": [
  {
   "cell_type": "markdown",
   "metadata": {},
   "source": [
    "# 循环\n",
    "- 循环是一种控制语句块重复执行的结构\n",
    "- while  适用于广度遍历\n",
    "- for    开发中经常使用"
   ]
  },
  {
   "cell_type": "markdown",
   "metadata": {},
   "source": [
    "## while 循环\n",
    "- 当一个条件保持真的时候while循环重复执行语句\n",
    "- while 循环一定要有结束条件，否则很容易进入死循环\n",
    "- while 循环的语法是：\n",
    "\n",
    "    while loop-contunuation-conndition:\n",
    "\n",
    "        Statement"
   ]
  },
  {
   "cell_type": "code",
   "execution_count": null,
   "metadata": {},
   "outputs": [],
   "source": [
    "#import os\n",
    "#os.system('命令')，即可在python中使用linux命令"
   ]
  },
  {
   "cell_type": "markdown",
   "metadata": {},
   "source": [
    "## 示例：\n",
    "sum = 0\n",
    "\n",
    "i = 1\n",
    "\n",
    "while i <10:\n",
    "\n",
    "    sum = sum + i\n",
    "    i = i + 1"
   ]
  },
  {
   "cell_type": "markdown",
   "metadata": {},
   "source": [
    "## 错误示例：\n",
    "sum = 0\n",
    "\n",
    "i = 1\n",
    "\n",
    "while i <10:\n",
    "\n",
    "    sum = sum + i\n",
    "\n",
    "i = i + 1\n",
    "- 一旦进入死循环可按 Ctrl + c 停止"
   ]
  },
  {
   "cell_type": "markdown",
   "metadata": {},
   "source": [
    "## EP：\n",
    "![](../Photo/143.png)\n",
    "![](../Photo/144.png)"
   ]
  },
  {
   "cell_type": "markdown",
   "metadata": {},
   "source": [
    "# 验证码\n",
    "- 随机产生四个字母的验证码，如果正确，输出验证码正确。如果错误，产生新的验证码，用户重新输入。\n",
    "- 验证码只能输入三次，如果三次都错，返回“别爬了，我们小网站没什么好爬的”\n",
    "- 密码登录，如果三次错误，账号被锁定\n"
   ]
  },
  {
   "cell_type": "code",
   "execution_count": 1,
   "metadata": {},
   "outputs": [],
   "source": [
    "import random"
   ]
  },
  {
   "cell_type": "code",
   "execution_count": 18,
   "metadata": {},
   "outputs": [
    {
     "name": "stdout",
     "output_type": "stream",
     "text": [
      "OSLS\n",
      "请输入四个字母osls\n",
      "正确\n"
     ]
    }
   ],
   "source": [
    "a=''\n",
    "for j in range(3):\n",
    "    for i in range(4):\n",
    "        s=random.randint(65,90)#random.shuffle（可迭代对象）把可迭代对象随机打乱\n",
    "        r=chr(s)\n",
    "        a+=r\n",
    "    print(a)\n",
    "    b=a.upper(input('请输入四个字母'))#把小写字母转换成大写字母，str.lower相反\n",
    "    if b==a:\n",
    "        print('正确')\n",
    "        break\n",
    "    elif j==2:\n",
    "        print('别爬了，我们小网站没什么好爬的')\n",
    "    else:\n",
    "        print('错误')\n",
    "\n",
    "    \n"
   ]
  },
  {
   "cell_type": "code",
   "execution_count": 19,
   "metadata": {},
   "outputs": [
    {
     "name": "stdout",
     "output_type": "stream",
     "text": [
      "1tQs\n",
      "请输入四位数1256\n",
      "错误\n",
      "HfSU\n",
      "请输入四位数5689\n",
      "错误\n",
      "J1X2\n",
      "请输入四位数j1x2\n",
      "正确\n"
     ]
    }
   ],
   "source": [
    "while 1:\n",
    "    a=\"\"\n",
    "    for i in range(4):\n",
    "        num1=random.randint(0,2)\n",
    "        if num1==0:\n",
    "            s=random.randint(48,57)\n",
    "            r=chr(s)\n",
    "        elif num1==1:\n",
    "            s=random.randint(65,90)\n",
    "            r=chr(s)\n",
    "        elif num1==2:\n",
    "            s=random.randint(97,122)\n",
    "            r=chr(s)\n",
    "        a+=r\n",
    "    print(a)\n",
    "    b=str.upper(input('请输入四位数'))\n",
    "    if b==a:\n",
    "        print('正确')\n",
    "        break\n",
    "\n",
    "    else:\n",
    "        print('错误')\n",
    "\n",
    "        \n",
    "    "
   ]
  },
  {
   "cell_type": "code",
   "execution_count": 6,
   "metadata": {},
   "outputs": [
    {
     "name": "stdout",
     "output_type": "stream",
     "text": [
      "IM97\n",
      "请输入四位验证码sd65\n",
      "错误\n",
      "MLAR\n",
      "请输入四位验证码sd65\n",
      "错误\n",
      "I119\n",
      "请输入四位验证码i119\n",
      "正确\n"
     ]
    }
   ],
   "source": [
    "for j in range(3):\n",
    "    a=''\n",
    "    n=''\n",
    "    for i in range(4):\n",
    "        num=random.randint(0,9)\n",
    "        if num%2==0:\n",
    "            s=random.randint(65,90)\n",
    "            r=chr(s)\n",
    "            a+=r\n",
    "        else:\n",
    "            num1=str(num)\n",
    "            n+=num1\n",
    "    print(a+n)\n",
    "    b=str.upper(input('请输入四位验证码'))#把小写字母转换成大写字母，str.lower相反\n",
    "    if b==a+n:\n",
    "        print('正确')\n",
    "        break\n",
    "    elif j==2:\n",
    "        print('别爬了，我们小网站没什么好爬的')\n",
    "    else:\n",
    "        print('错误')\n"
   ]
  },
  {
   "cell_type": "code",
   "execution_count": 14,
   "metadata": {},
   "outputs": [
    {
     "name": "stdout",
     "output_type": "stream",
     "text": [
      "请输入密码：wjj123123\n",
      "密码错误，请重新输入\n",
      "请输入密码：wjj\n",
      "密码错误，请重新输入\n",
      "请输入密码：wjj\n",
      "密码错误三次，账户锁定\n"
     ]
    }
   ],
   "source": [
    "i=0\n",
    "while i<3:\n",
    "    i+=1\n",
    "    mima=input('请输入密码：')\n",
    "    if mima=='wjj456789':\n",
    "        print('登录成功')\n",
    "        break\n",
    "    elif i==3:\n",
    "        print('密码错误三次，账户锁定')\n",
    "    else:\n",
    "        print('密码错误，请重新输入')"
   ]
  },
  {
   "cell_type": "markdown",
   "metadata": {},
   "source": [
    "## 尝试死循环"
   ]
  },
  {
   "cell_type": "markdown",
   "metadata": {},
   "source": [
    "## 实例研究：猜数字\n",
    "- 你将要编写一个能够随机生成一个0到10之间的且包括两者的数字程序，这个程序\n",
    "- 提示用户连续地输入数字直到正确，且提示用户输入的数字是过高还是过低"
   ]
  },
  {
   "cell_type": "code",
   "execution_count": 17,
   "metadata": {},
   "outputs": [
    {
     "name": "stdout",
     "output_type": "stream",
     "text": [
      "请输入一个数字5\n",
      "太小了，请继续猜\n",
      "请输入一个数字8\n",
      "太小了，请继续猜\n",
      "请输入一个数字10\n",
      "太大了，请继续猜\n",
      "请输入一个数字9\n",
      "正确\n"
     ]
    }
   ],
   "source": [
    "num1=random.randint(0,10)\n",
    "while 1:\n",
    "    num=eval(input('请输入一个数字'))\n",
    "    if num==num1:\n",
    "        print('正确')\n",
    "        break\n",
    "    elif num<num1:\n",
    "        print('太小了，请继续猜')\n",
    "    else:\n",
    "        print('太大了，请继续猜')"
   ]
  },
  {
   "cell_type": "markdown",
   "metadata": {},
   "source": [
    "## 使用哨兵值来控制循环\n",
    "- 哨兵值来表明输入的结束\n",
    "- ![](../Photo/54.png)"
   ]
  },
  {
   "cell_type": "markdown",
   "metadata": {},
   "source": [
    "## 警告\n",
    "![](../Photo/55.png)"
   ]
  },
  {
   "cell_type": "markdown",
   "metadata": {},
   "source": [
    "## for 循环\n",
    "- Python的for 循环通过一个序列中的每个值来进行迭代\n",
    "- range(a,b,k)， a，b，k 必须为整数\n",
    "- a: start\n",
    "- b: end\n",
    "- k: step\n",
    "- 注意for 是循环一切可迭代对象，而不是只能使用range"
   ]
  },
  {
   "cell_type": "markdown",
   "metadata": {},
   "source": [
    "# 在Python里面一切皆对象"
   ]
  },
  {
   "cell_type": "markdown",
   "metadata": {},
   "source": [
    "## EP:\n",
    "- ![](../Photo/145.png)"
   ]
  },
  {
   "cell_type": "markdown",
   "metadata": {},
   "source": [
    "## 嵌套循环\n",
    "- 一个循环可以嵌套另一个循环\n",
    "- 每次循环外层时，内层循环都会被刷新重新完成循环\n",
    "- 也就是说，大循环执行一次，小循环会全部执行一次\n",
    "- 注意：\n",
    "> - 多层循环非常耗时\n",
    "  - 最多使用3层循环"
   ]
  },
  {
   "cell_type": "markdown",
   "metadata": {},
   "source": [
    "## EP：\n",
    "- 使用多层循环完成9X9乘法表\n",
    "- 显示50以内所有的素数"
   ]
  },
  {
   "cell_type": "code",
   "execution_count": 32,
   "metadata": {},
   "outputs": [
    {
     "name": "stdout",
     "output_type": "stream",
     "text": [
      "2\n",
      "3\n",
      "5\n",
      "7\n",
      "11\n",
      "13\n",
      "17\n",
      "19\n",
      "23\n",
      "29\n",
      "31\n",
      "37\n",
      "41\n",
      "43\n",
      "47\n"
     ]
    }
   ],
   "source": [
    "print('2')\n",
    "for i in range(3,51):\n",
    "    n=1\n",
    "    for j in range(2,i):\n",
    "        if i %j==0:\n",
    "            n=0\n",
    "            break\n",
    "    if n==1:\n",
    "        print(i)\n",
    "            \n",
    "        "
   ]
  },
  {
   "cell_type": "code",
   "execution_count": 9,
   "metadata": {},
   "outputs": [
    {
     "name": "stdout",
     "output_type": "stream",
     "text": [
      "1*1=1  \n",
      "1*2=2  2*2=4  \n",
      "1*3=3  2*3=6  3*3=9  \n",
      "1*4=4  2*4=8  3*4=12  4*4=16  \n",
      "1*5=5  2*5=10  3*5=15  4*5=20  5*5=25  \n",
      "1*6=6  2*6=12  3*6=18  4*6=24  5*6=30  6*6=36  \n",
      "1*7=7  2*7=14  3*7=21  4*7=28  5*7=35  6*7=42  7*7=49  \n",
      "1*8=8  2*8=16  3*8=24  4*8=32  5*8=40  6*8=48  7*8=56  8*8=64  \n",
      "1*9=9  2*9=18  3*9=27  4*9=36  5*9=45  6*9=54  7*9=63  8*9=72  9*9=81  \n"
     ]
    }
   ],
   "source": [
    "for i in range(1,10):\n",
    "    for j in range(1,i+1):\n",
    "        print(\"%d*%d=%d\"%(j,i,i*j),end='  ')\n",
    "    print()"
   ]
  },
  {
   "cell_type": "code",
   "execution_count": 10,
   "metadata": {},
   "outputs": [
    {
     "name": "stdout",
     "output_type": "stream",
     "text": [
      "1*1=1  2*1=2  3*1=3  4*1=4  5*1=5  6*1=6  7*1=7  8*1=8  9*1=9  \n",
      "2*2=4  3*2=6  4*2=8  5*2=10  6*2=12  7*2=14  8*2=16  9*2=18  \n",
      "3*3=9  4*3=12  5*3=15  6*3=18  7*3=21  8*3=24  9*3=27  \n",
      "4*4=16  5*4=20  6*4=24  7*4=28  8*4=32  9*4=36  \n",
      "5*5=25  6*5=30  7*5=35  8*5=40  9*5=45  \n",
      "6*6=36  7*6=42  8*6=48  9*6=54  \n",
      "7*7=49  8*7=56  9*7=63  \n",
      "8*8=64  9*8=72  \n",
      "9*9=81  \n"
     ]
    }
   ],
   "source": [
    "for i in range(1,10):\n",
    "    for j in range(i,10):\n",
    "        print(\"%d*%d=%d\"%(j,i,i*j),end='  ')\n",
    "    print() "
   ]
  },
  {
   "cell_type": "code",
   "execution_count": 7,
   "metadata": {},
   "outputs": [
    {
     "name": "stdout",
     "output_type": "stream",
     "text": [
      "1*1=1 \n",
      "1*2=2 2*2=4 \n",
      "1*3=3 2*3=6 3*3=9 \n",
      "1*4=4 2*4=8 3*4=12 4*4=16 \n",
      "1*5=5 2*5=10 3*5=15 4*5=20 5*5=25 \n",
      "1*6=6 2*6=12 3*6=18 4*6=24 5*6=30 6*6=36 \n",
      "1*7=7 2*7=14 3*7=21 4*7=28 5*7=35 6*7=42 7*7=49 \n",
      "1*8=8 2*8=16 3*8=24 4*8=32 5*8=40 6*8=48 7*8=56 8*8=64 \n",
      "1*9=9 2*9=18 3*9=27 4*9=36 5*9=45 6*9=54 7*9=63 8*9=72 9*9=81 \n"
     ]
    }
   ],
   "source": [
    "i=1\n",
    "while i<=9:\n",
    "    j=1\n",
    "    while j<=i:\n",
    "        a=i*j\n",
    "        print('%d*%d=%d'%(j,i,a),end=' ')\n",
    "        j+=1\n",
    "    print()\n",
    "    i+=1"
   ]
  },
  {
   "cell_type": "markdown",
   "metadata": {},
   "source": [
    "## 关键字 break 和 continue\n",
    "- break 跳出循环，终止循环\n",
    "- continue 跳出此次循环，继续执行"
   ]
  },
  {
   "cell_type": "markdown",
   "metadata": {},
   "source": [
    "## 注意\n",
    "![](../Photo/56.png)\n",
    "![](../Photo/57.png)"
   ]
  },
  {
   "cell_type": "markdown",
   "metadata": {},
   "source": [
    "# Homework\n",
    "- 1 \n",
    "![](../Photo/58.png)"
   ]
  },
  {
   "cell_type": "code",
   "execution_count": null,
   "metadata": {},
   "outputs": [
    {
     "name": "stdout",
     "output_type": "stream",
     "text": [
      "请输入整数1\n",
      "请输入整数2\n",
      "请输入整数3\n",
      "请输入整数4\n"
     ]
    }
   ],
   "source": [
    "a=0\n",
    "b=0\n",
    "while 1:\n",
    "    i=eval(input('请输入整数'))\n",
    "    j=eval(input('请输入整数'))\n",
    "    j+=i\n",
    "    if i>0:\n",
    "        a+=1\n",
    "    elif i<0:\n",
    "        b+=1\n",
    "    else:\n",
    "        c=float(j/(a+b))\n",
    "        print(a,'整数的个数',b,'负数的个数','平均值为：',c)\n",
    "        break"
   ]
  },
  {
   "cell_type": "markdown",
   "metadata": {},
   "source": [
    "- 2\n",
    "![](../Photo/59.png)"
   ]
  },
  {
   "cell_type": "code",
   "execution_count": 1,
   "metadata": {},
   "outputs": [
    {
     "name": "stdout",
     "output_type": "stream",
     "text": [
      "四年学费分别为： 47519.128125\n",
      "四年学费分别为： 49895.08453125\n",
      "四年学费分别为： 52389.838757812504\n",
      "四年学费分别为： 55009.33069570312\n",
      "四年学费分别为： 57759.797230488286\n",
      "四年学费分别为： 60647.787092012695\n",
      "十年后的学费为： 16288.946267774414\n"
     ]
    }
   ],
   "source": [
    "for j in range (1,7):\n",
    "    fee=10000\n",
    "    sum_fee=0\n",
    "    for a in range (j):\n",
    "        fee=fee+fee*0.05\n",
    "    for i in range(4):\n",
    "        fee=fee+fee*0.05\n",
    "        sum_fee+=fee\n",
    "    print('四年学费分别为：',sum_fee)\n",
    "print('十年后的学费为：',fee)"
   ]
  },
  {
   "cell_type": "markdown",
   "metadata": {},
   "source": [
    "- 3\n",
    "![](../Photo/58.png)"
   ]
  },
  {
   "cell_type": "markdown",
   "metadata": {},
   "source": [
    "- 4\n",
    "![](../Photo/60.png)"
   ]
  },
  {
   "cell_type": "markdown",
   "metadata": {},
   "source": [
    "- 5\n",
    "![](../Photo/61.png)"
   ]
  },
  {
   "cell_type": "markdown",
   "metadata": {},
   "source": [
    "- 6\n",
    "![](../Photo/62.png)"
   ]
  },
  {
   "cell_type": "markdown",
   "metadata": {},
   "source": [
    "- 7\n",
    "![](../Photo/63.png)"
   ]
  },
  {
   "cell_type": "markdown",
   "metadata": {},
   "source": [
    "- 8\n",
    "![](../Photo/64.png)"
   ]
  },
  {
   "cell_type": "markdown",
   "metadata": {},
   "source": [
    "- 9\n",
    "![](../Photo/65.png)"
   ]
  },
  {
   "cell_type": "code",
   "execution_count": 4,
   "metadata": {},
   "outputs": [
    {
     "name": "stdout",
     "output_type": "stream",
     "text": [
      "3.1416926635905345\n",
      "3.1416426560898874\n",
      "3.1416259880342583\n",
      "3.1416176542148064\n",
      "3.1416126539897853\n",
      "3.1416093205342155\n",
      "3.1416069395081365\n",
      "3.1416051537460006\n",
      "3.1416037648243034\n",
      "3.1416026536897204\n"
     ]
    }
   ],
   "source": [
    "for n in range(10000,100001,10000):\n",
    "    sum_=0\n",
    "    for i in range(1,n):\n",
    "        sum_+=((-1)**(i+1))/(2*i-1)\n",
    "    pi=4*sum_\n",
    "    print(pi)"
   ]
  },
  {
   "cell_type": "markdown",
   "metadata": {},
   "source": [
    "- 10 \n",
    "![](../Photo/66.png)"
   ]
  },
  {
   "cell_type": "code",
   "execution_count": 7,
   "metadata": {},
   "outputs": [
    {
     "name": "stdout",
     "output_type": "stream",
     "text": [
      "6\n",
      "28\n",
      "496\n",
      "8128\n"
     ]
    }
   ],
   "source": [
    "for i in range (2,10001):\n",
    "    sum_=0\n",
    "    for j in range(1,i):\n",
    "        if i%j==0:\n",
    "            sum_+=j\n",
    "    if i==sum_:\n",
    "        print(i)"
   ]
  },
  {
   "cell_type": "markdown",
   "metadata": {},
   "source": [
    "- 11\n",
    "![](../Photo/67.png)"
   ]
  },
  {
   "cell_type": "markdown",
   "metadata": {},
   "source": [
    "- 12\n",
    "![](../Photo/68.png)"
   ]
  },
  {
   "cell_type": "code",
   "execution_count": null,
   "metadata": {},
   "outputs": [],
   "source": []
  }
 ],
 "metadata": {
  "kernelspec": {
   "display_name": "Python 3",
   "language": "python",
   "name": "python3"
  },
  "language_info": {
   "codemirror_mode": {
    "name": "ipython",
    "version": 3
   },
   "file_extension": ".py",
   "mimetype": "text/x-python",
   "name": "python",
   "nbconvert_exporter": "python",
   "pygments_lexer": "ipython3",
   "version": "3.7.3"
  }
 },
 "nbformat": 4,
 "nbformat_minor": 2
}
