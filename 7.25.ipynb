{
 "cells": [
  {
   "cell_type": "markdown",
   "metadata": {},
   "source": [
    "# 列表List\n",
    "- 一个列表可以储存任意大小的数据集合，你可以理解为他是一个容器"
   ]
  },
  {
   "cell_type": "code",
   "execution_count": 2,
   "metadata": {},
   "outputs": [
    {
     "ename": "NameError",
     "evalue": "name 'Ture' is not defined",
     "output_type": "error",
     "traceback": [
      "\u001b[1;31m---------------------------------------------------------------------------\u001b[0m",
      "\u001b[1;31mNameError\u001b[0m                                 Traceback (most recent call last)",
      "\u001b[1;32m<ipython-input-2-6188a8939311>\u001b[0m in \u001b[0;36m<module>\u001b[1;34m\u001b[0m\n\u001b[1;32m----> 1\u001b[1;33m \u001b[0ma\u001b[0m\u001b[1;33m=\u001b[0m\u001b[1;33m[\u001b[0m\u001b[1;36m1\u001b[0m\u001b[1;33m,\u001b[0m\u001b[1;36m2\u001b[0m\u001b[1;33m,\u001b[0m\u001b[1;36m3\u001b[0m\u001b[1;33m,\u001b[0m\u001b[1;34m'4'\u001b[0m\u001b[1;33m,\u001b[0m\u001b[1;36m1.0\u001b[0m\u001b[1;33m,\u001b[0m\u001b[0mTure\u001b[0m\u001b[1;33m,\u001b[0m\u001b[1;33m[\u001b[0m\u001b[0mb\u001b[0m\u001b[1;33m]\u001b[0m\u001b[1;33m]\u001b[0m\u001b[1;33m\u001b[0m\u001b[1;33m\u001b[0m\u001b[0m\n\u001b[0m\u001b[0;32m      2\u001b[0m \u001b[0mtype\u001b[0m\u001b[1;33m(\u001b[0m\u001b[0ma\u001b[0m\u001b[1;33m)\u001b[0m\u001b[1;33m\u001b[0m\u001b[1;33m\u001b[0m\u001b[0m\n",
      "\u001b[1;31mNameError\u001b[0m: name 'Ture' is not defined"
     ]
    }
   ],
   "source": [
    "a=[1,2,3,'4',1.0, Ture ,[b]]\n",
    "type(a)"
   ]
  },
  {
   "cell_type": "code",
   "execution_count": null,
   "metadata": {},
   "outputs": [],
   "source": []
  },
  {
   "cell_type": "markdown",
   "metadata": {},
   "source": [
    "## 先来一个例子爽一爽\n",
    "![](../Photo/115.png)"
   ]
  },
  {
   "cell_type": "markdown",
   "metadata": {},
   "source": [
    "## 创建一个列表\n",
    "- a = [1,2,3,4,5]"
   ]
  },
  {
   "cell_type": "markdown",
   "metadata": {},
   "source": [
    "## 列表的一般操作\n",
    "![](../Photo/116.png)"
   ]
  },
  {
   "cell_type": "code",
   "execution_count": 7,
   "metadata": {},
   "outputs": [
    {
     "data": {
      "text/plain": [
       "True"
      ]
     },
     "execution_count": 7,
     "metadata": {},
     "output_type": "execute_result"
    }
   ],
   "source": [
    "a=['joker',62,8]\n",
    "b='joker'\n",
    "b in a"
   ]
  },
  {
   "cell_type": "code",
   "execution_count": 10,
   "metadata": {},
   "outputs": [
    {
     "data": {
      "text/plain": [
       "[1, 1, 1, 1, 1]"
      ]
     },
     "execution_count": 10,
     "metadata": {},
     "output_type": "execute_result"
    }
   ],
   "source": [
    "a=[1]\n",
    "b=[3]\n",
    "#a+b\n",
    "a*5"
   ]
  },
  {
   "cell_type": "code",
   "execution_count": 11,
   "metadata": {},
   "outputs": [
    {
     "data": {
      "text/plain": [
       "5"
      ]
     },
     "execution_count": 11,
     "metadata": {},
     "output_type": "execute_result"
    }
   ],
   "source": [
    "a=[1,2,4,5]\n",
    "a[-1]"
   ]
  },
  {
   "cell_type": "code",
   "execution_count": 15,
   "metadata": {},
   "outputs": [
    {
     "data": {
      "text/plain": [
       "[2, 3]"
      ]
     },
     "execution_count": 15,
     "metadata": {},
     "output_type": "execute_result"
    }
   ],
   "source": [
    "a=[1,2,4,5]\n",
    "a[1:3]#开始结尾步长"
   ]
  },
  {
   "cell_type": "code",
   "execution_count": 18,
   "metadata": {},
   "outputs": [
    {
     "data": {
      "text/plain": [
       "[5, 4, 2]"
      ]
     },
     "execution_count": 18,
     "metadata": {},
     "output_type": "execute_result"
    }
   ],
   "source": [
    "a=[1,2,4,5]\n",
    "a[3:0:-1]"
   ]
  },
  {
   "cell_type": "code",
   "execution_count": 22,
   "metadata": {},
   "outputs": [
    {
     "data": {
      "text/plain": [
       "[5, 2]"
      ]
     },
     "execution_count": 22,
     "metadata": {},
     "output_type": "execute_result"
    }
   ],
   "source": [
    "a=[1,2,4,5]\n",
    "#a[::-1][:3]\n",
    "a[::-2]"
   ]
  },
  {
   "cell_type": "code",
   "execution_count": 23,
   "metadata": {},
   "outputs": [
    {
     "data": {
      "text/plain": [
       "777"
      ]
     },
     "execution_count": 23,
     "metadata": {},
     "output_type": "execute_result"
    }
   ],
   "source": [
    "a=[1,2,3,4,[199,388,777]]\n",
    "a[4][2]"
   ]
  },
  {
   "cell_type": "code",
   "execution_count": 25,
   "metadata": {},
   "outputs": [
    {
     "name": "stdout",
     "output_type": "stream",
     "text": [
      "[0, 1]\n",
      "[3, 4]\n",
      "------\n",
      "[1, 2]\n",
      "[4, 5]\n",
      "------\n",
      "[3, 4]\n",
      "[6, 7]\n",
      "------\n",
      "[4, 5]\n",
      "[7, 8]\n",
      "------\n"
     ]
    }
   ],
   "source": [
    "a=[[0,1,2],[3,4,5],[6,7,8]]\n",
    "for i in range(2):\n",
    "    for j in range(2):\n",
    "        print(a[i][j:j+2])\n",
    "        print(a[i+1][j:j+2])\n",
    "        print('------')"
   ]
  },
  {
   "cell_type": "code",
   "execution_count": 31,
   "metadata": {},
   "outputs": [
    {
     "ename": "IndexError",
     "evalue": "list index out of range",
     "output_type": "error",
     "traceback": [
      "\u001b[1;31m---------------------------------------------------------------------------\u001b[0m",
      "\u001b[1;31mIndexError\u001b[0m                                Traceback (most recent call last)",
      "\u001b[1;32m<ipython-input-31-1f60ba2975f9>\u001b[0m in \u001b[0;36m<module>\u001b[1;34m\u001b[0m\n\u001b[0;32m      1\u001b[0m \u001b[0ma\u001b[0m\u001b[1;33m=\u001b[0m\u001b[1;33m[\u001b[0m\u001b[1;36m1\u001b[0m\u001b[1;33m,\u001b[0m\u001b[1;36m2\u001b[0m\u001b[1;33m,\u001b[0m\u001b[1;36m3\u001b[0m\u001b[1;33m,\u001b[0m\u001b[1;33m[\u001b[0m\u001b[1;36m1\u001b[0m\u001b[1;33m,\u001b[0m\u001b[1;36m2\u001b[0m\u001b[1;33m,\u001b[0m\u001b[1;36m3\u001b[0m\u001b[1;33m]\u001b[0m\u001b[1;33m]\u001b[0m\u001b[1;33m\u001b[0m\u001b[1;33m\u001b[0m\u001b[0m\n\u001b[1;32m----> 2\u001b[1;33m \u001b[0mlen\u001b[0m\u001b[1;33m(\u001b[0m\u001b[0ma\u001b[0m\u001b[1;33m[\u001b[0m\u001b[1;36m3\u001b[0m\u001b[1;33m]\u001b[0m\u001b[1;33m[\u001b[0m\u001b[1;36m3\u001b[0m\u001b[1;33m]\u001b[0m\u001b[1;33m)\u001b[0m\u001b[1;33m\u001b[0m\u001b[1;33m\u001b[0m\u001b[0m\n\u001b[0m",
      "\u001b[1;31mIndexError\u001b[0m: list index out of range"
     ]
    }
   ],
   "source": [
    "a=[1,2,3,[1,2,3]]\n",
    "len(a[3])\n"
   ]
  },
  {
   "cell_type": "markdown",
   "metadata": {},
   "source": [
    "# 列表索引操作\n",
    "- Mylist[index]\n",
    "- 正序索引，逆序索引\n",
    "- 列表一定注意越界\n",
    "- ![](../Photo/117.png)"
   ]
  },
  {
   "cell_type": "code",
   "execution_count": 5,
   "metadata": {},
   "outputs": [
    {
     "data": {
      "text/plain": [
       "4"
      ]
     },
     "execution_count": 5,
     "metadata": {},
     "output_type": "execute_result"
    }
   ],
   "source": [
    "b=[1,2,3,[1,2,3]]\n",
    "len(b)"
   ]
  },
  {
   "cell_type": "code",
   "execution_count": 7,
   "metadata": {},
   "outputs": [
    {
     "ename": "TypeError",
     "evalue": "'>' not supported between instances of 'list' and 'int'",
     "output_type": "error",
     "traceback": [
      "\u001b[1;31m---------------------------------------------------------------------------\u001b[0m",
      "\u001b[1;31mTypeError\u001b[0m                                 Traceback (most recent call last)",
      "\u001b[1;32m<ipython-input-7-2cf31b5fdb11>\u001b[0m in \u001b[0;36m<module>\u001b[1;34m\u001b[0m\n\u001b[0;32m      1\u001b[0m \u001b[0mb\u001b[0m\u001b[1;33m=\u001b[0m\u001b[1;33m[\u001b[0m\u001b[1;36m1\u001b[0m\u001b[1;33m,\u001b[0m\u001b[1;36m2\u001b[0m\u001b[1;33m,\u001b[0m\u001b[1;36m3\u001b[0m\u001b[1;33m,\u001b[0m\u001b[1;33m[\u001b[0m\u001b[1;36m1\u001b[0m\u001b[1;33m,\u001b[0m\u001b[1;36m2\u001b[0m\u001b[1;33m,\u001b[0m\u001b[1;36m3\u001b[0m\u001b[1;33m]\u001b[0m\u001b[1;33m,\u001b[0m\u001b[1;34m'a'\u001b[0m\u001b[1;33m]\u001b[0m\u001b[1;33m\u001b[0m\u001b[1;33m\u001b[0m\u001b[0m\n\u001b[1;32m----> 2\u001b[1;33m \u001b[0mmax\u001b[0m\u001b[1;33m(\u001b[0m\u001b[0mb\u001b[0m\u001b[1;33m)\u001b[0m\u001b[1;33m\u001b[0m\u001b[1;33m\u001b[0m\u001b[0m\n\u001b[0m",
      "\u001b[1;31mTypeError\u001b[0m: '>' not supported between instances of 'list' and 'int'"
     ]
    }
   ],
   "source": [
    "b=[1,2,3,[1,2,3],'a']\n",
    "max(b)"
   ]
  },
  {
   "cell_type": "code",
   "execution_count": 9,
   "metadata": {},
   "outputs": [
    {
     "ename": "NameError",
     "evalue": "name 'Ture' is not defined",
     "output_type": "error",
     "traceback": [
      "\u001b[1;31m---------------------------------------------------------------------------\u001b[0m",
      "\u001b[1;31mNameError\u001b[0m                                 Traceback (most recent call last)",
      "\u001b[1;32m<ipython-input-9-093574bdf5fd>\u001b[0m in \u001b[0;36m<module>\u001b[1;34m\u001b[0m\n\u001b[1;32m----> 1\u001b[1;33m \u001b[0mb\u001b[0m\u001b[1;33m=\u001b[0m\u001b[1;33m[\u001b[0m\u001b[1;36m1\u001b[0m\u001b[1;33m,\u001b[0m\u001b[1;36m2\u001b[0m\u001b[1;33m,\u001b[0m\u001b[1;36m3\u001b[0m\u001b[1;33m,\u001b[0m\u001b[0mTure\u001b[0m\u001b[1;33m]\u001b[0m\u001b[1;33m\u001b[0m\u001b[1;33m\u001b[0m\u001b[0m\n\u001b[0m\u001b[0;32m      2\u001b[0m \u001b[0mmin\u001b[0m\u001b[1;33m(\u001b[0m\u001b[0mb\u001b[0m\u001b[1;33m)\u001b[0m\u001b[1;33m\u001b[0m\u001b[1;33m\u001b[0m\u001b[0m\n",
      "\u001b[1;31mNameError\u001b[0m: name 'Ture' is not defined"
     ]
    }
   ],
   "source": [
    "b=[1,2,3,Ture]\n",
    "min(b)"
   ]
  },
  {
   "cell_type": "code",
   "execution_count": 10,
   "metadata": {},
   "outputs": [
    {
     "name": "stdout",
     "output_type": "stream",
     "text": [
      "1\n",
      "2\n",
      "3\n"
     ]
    }
   ],
   "source": [
    "a=[1,2,3]\n",
    "for i in a:\n",
    "    print(i)#列表字符串可以for玄幻"
   ]
  },
  {
   "cell_type": "code",
   "execution_count": 11,
   "metadata": {},
   "outputs": [
    {
     "data": {
      "text/plain": [
       "True"
      ]
     },
     "execution_count": 11,
     "metadata": {},
     "output_type": "execute_result"
    }
   ],
   "source": [
    "b=[1,1,2]\n",
    "a=[12,3,4]\n",
    "a>b"
   ]
  },
  {
   "cell_type": "code",
   "execution_count": 13,
   "metadata": {},
   "outputs": [
    {
     "name": "stdout",
     "output_type": "stream",
     "text": [
      "1\n",
      "2\n",
      "3\n",
      "4\n",
      "5\n"
     ]
    }
   ],
   "source": [
    "joker=[1,2,3,4,5]\n",
    "for i in joker:\n",
    "    print(i)"
   ]
  },
  {
   "cell_type": "code",
   "execution_count": 2,
   "metadata": {},
   "outputs": [
    {
     "ename": "TypeError",
     "evalue": "'list' object is not callable",
     "output_type": "error",
     "traceback": [
      "\u001b[1;31m---------------------------------------------------------------------------\u001b[0m",
      "\u001b[1;31mTypeError\u001b[0m                                 Traceback (most recent call last)",
      "\u001b[1;32m<ipython-input-2-bb716e276a91>\u001b[0m in \u001b[0;36m<module>\u001b[1;34m\u001b[0m\n\u001b[0;32m      2\u001b[0m \u001b[0mi\u001b[0m\u001b[1;33m=\u001b[0m\u001b[1;36m0\u001b[0m\u001b[1;33m\u001b[0m\u001b[1;33m\u001b[0m\u001b[0m\n\u001b[0;32m      3\u001b[0m \u001b[1;32mwhile\u001b[0m \u001b[0mi\u001b[0m\u001b[1;33m<\u001b[0m\u001b[0mlen\u001b[0m\u001b[1;33m(\u001b[0m\u001b[0mjoker\u001b[0m\u001b[1;33m)\u001b[0m\u001b[1;33m:\u001b[0m\u001b[1;33m\u001b[0m\u001b[1;33m\u001b[0m\u001b[0m\n\u001b[1;32m----> 4\u001b[1;33m     \u001b[0mprint\u001b[0m\u001b[1;33m(\u001b[0m\u001b[0mjoker\u001b[0m\u001b[1;33m(\u001b[0m\u001b[0mi\u001b[0m\u001b[1;33m)\u001b[0m\u001b[1;33m)\u001b[0m\u001b[1;33m\u001b[0m\u001b[1;33m\u001b[0m\u001b[0m\n\u001b[0m\u001b[0;32m      5\u001b[0m     \u001b[0mi\u001b[0m\u001b[1;33m+=\u001b[0m\u001b[1;36m1\u001b[0m\u001b[1;33m\u001b[0m\u001b[1;33m\u001b[0m\u001b[0m\n",
      "\u001b[1;31mTypeError\u001b[0m: 'list' object is not callable"
     ]
    }
   ],
   "source": [
    "joker=[1,2,3,4,5]\n",
    "i=0\n",
    "while i<len(joker):\n",
    "    print(joker(i))\n",
    "    i+=1\n"
   ]
  },
  {
   "cell_type": "markdown",
   "metadata": {},
   "source": [
    "## 列表切片操作\n",
    "- Mylist[start:end]\n",
    "- 正序切片，逆序切片"
   ]
  },
  {
   "cell_type": "markdown",
   "metadata": {},
   "source": [
    "## 列表 +、*、in 、not in"
   ]
  },
  {
   "cell_type": "code",
   "execution_count": 6,
   "metadata": {},
   "outputs": [
    {
     "data": {
      "text/plain": [
       "[100, 102, 104, 106, 108]"
      ]
     },
     "execution_count": 6,
     "metadata": {},
     "output_type": "execute_result"
    }
   ],
   "source": [
    "U=[x+100 for x in range(10) if x%2==0]\n",
    "U"
   ]
  },
  {
   "cell_type": "code",
   "execution_count": 10,
   "metadata": {},
   "outputs": [],
   "source": [
    "import random"
   ]
  },
  {
   "cell_type": "code",
   "execution_count": 11,
   "metadata": {},
   "outputs": [
    {
     "data": {
      "text/plain": [
       "[9, 2, 7, 0, 1, 3, 3, 9, 0, 10]"
      ]
     },
     "execution_count": 11,
     "metadata": {},
     "output_type": "execute_result"
    }
   ],
   "source": [
    "k=[random.randint(0,10) for i in range(10)]\n",
    "k"
   ]
  },
  {
   "cell_type": "markdown",
   "metadata": {},
   "source": [
    "## 使用for循环遍历元素\n",
    "- for 循环可以遍历一切可迭代元素"
   ]
  },
  {
   "cell_type": "markdown",
   "metadata": {},
   "source": [
    "## EP：\n",
    "- 使用while 循环遍历列表"
   ]
  },
  {
   "cell_type": "markdown",
   "metadata": {},
   "source": [
    "## 列表的比较\n",
    "- \\>,<,>=,<=,==,!="
   ]
  },
  {
   "cell_type": "markdown",
   "metadata": {},
   "source": [
    "## 列表生成式\n",
    "[x for x in range(10)]"
   ]
  },
  {
   "cell_type": "markdown",
   "metadata": {},
   "source": [
    "## 列表的方法\n",
    "![](../Photo/118.png)"
   ]
  },
  {
   "cell_type": "code",
   "execution_count": 13,
   "metadata": {},
   "outputs": [
    {
     "data": {
      "text/plain": [
       "[100, 10]"
      ]
     },
     "execution_count": 13,
     "metadata": {},
     "output_type": "execute_result"
    }
   ],
   "source": [
    "a=10\n",
    "b=[100]\n",
    "b.append(a)\n",
    "b"
   ]
  },
  {
   "cell_type": "code",
   "execution_count": 26,
   "metadata": {},
   "outputs": [],
   "source": [
    "a=[1,2,3,4]\n",
    "b=[100,200,300,400]\n",
    "for i in b:\n",
    "    a.append(i)\n",
    "    b\n"
   ]
  },
  {
   "cell_type": "code",
   "execution_count": 48,
   "metadata": {},
   "outputs": [
    {
     "data": {
      "text/plain": [
       "[1, 2, 3, 4, 100, 200, 300, 400, 100, 200, 300, 400]"
      ]
     },
     "execution_count": 48,
     "metadata": {},
     "output_type": "execute_result"
    }
   ],
   "source": [
    "a=[1,2,3,4]\n",
    "b=[100,200,300,400]\n",
    "a.extend(b)\n",
    "a\n",
    "a+b"
   ]
  },
  {
   "cell_type": "code",
   "execution_count": 49,
   "metadata": {},
   "outputs": [
    {
     "data": {
      "text/plain": [
       "3"
      ]
     },
     "execution_count": 49,
     "metadata": {},
     "output_type": "execute_result"
    }
   ],
   "source": [
    "a=[1,2,3,4,1]\n",
    "a.index(4)\n"
   ]
  },
  {
   "cell_type": "code",
   "execution_count": 51,
   "metadata": {},
   "outputs": [
    {
     "data": {
      "text/plain": [
       "[1, 2, 100, 3, 4]"
      ]
     },
     "execution_count": 51,
     "metadata": {},
     "output_type": "execute_result"
    }
   ],
   "source": [
    "a=[1,2,3,4]\n",
    "a.insert(2,100)\n",
    "a"
   ]
  },
  {
   "cell_type": "code",
   "execution_count": 59,
   "metadata": {},
   "outputs": [
    {
     "data": {
      "text/plain": [
       "[1, 2, 100, 3, 4]"
      ]
     },
     "execution_count": 59,
     "metadata": {},
     "output_type": "execute_result"
    }
   ],
   "source": [
    "a=[1,2,3,4]\n",
    "a.insert(2,100)\n",
    "a"
   ]
  },
  {
   "cell_type": "code",
   "execution_count": 80,
   "metadata": {},
   "outputs": [],
   "source": [
    "b=[1,2,3,4,6]\n",
    "c=[]"
   ]
  },
  {
   "cell_type": "code",
   "execution_count": 81,
   "metadata": {},
   "outputs": [
    {
     "data": {
      "text/plain": [
       "[1, 100, 2, 3, 4, 6]"
      ]
     },
     "execution_count": 81,
     "metadata": {},
     "output_type": "execute_result"
    }
   ],
   "source": [
    "for i in b:\n",
    "    if i%2==0 and i!=100 and i not in c:\n",
    "        c.append(i)\n",
    "        index_=b.index(i)\n",
    "        b.insert(index_,100)\n",
    "        break\n",
    "b"
   ]
  },
  {
   "cell_type": "code",
   "execution_count": 76,
   "metadata": {},
   "outputs": [
    {
     "data": {
      "text/plain": [
       "[1, 2, 3, 4, [200, 300]]"
      ]
     },
     "execution_count": 76,
     "metadata": {},
     "output_type": "execute_result"
    }
   ],
   "source": [
    "a=[1,2,3,4]\n",
    "b=[100,200,300,400]\n",
    "a.append(b[1:3])\n",
    "a"
   ]
  },
  {
   "cell_type": "code",
   "execution_count": 45,
   "metadata": {},
   "outputs": [
    {
     "name": "stdout",
     "output_type": "stream",
     "text": [
      "2\n"
     ]
    }
   ],
   "source": [
    "i=0\n",
    "a = [1,2,2,[2,2],3]\n",
    "for i in a:\n",
    "    if type(i)is list:\n",
    "        print(i.count(2))\n",
    "    "
   ]
  },
  {
   "cell_type": "code",
   "execution_count": 43,
   "metadata": {},
   "outputs": [
    {
     "data": {
      "text/plain": [
       "0"
      ]
     },
     "execution_count": 43,
     "metadata": {},
     "output_type": "execute_result"
    }
   ],
   "source": [
    "a.count(a)"
   ]
  },
  {
   "cell_type": "code",
   "execution_count": 85,
   "metadata": {},
   "outputs": [
    {
     "data": {
      "text/plain": [
       "[2, 5, 7, 9]"
      ]
     },
     "execution_count": 85,
     "metadata": {},
     "output_type": "execute_result"
    }
   ],
   "source": [
    "h=[1,2,1,5,1,7,9,1]\n",
    "for i in h:\n",
    "    if i==1:\n",
    "        h.remove(i)\n",
    "h"
   ]
  },
  {
   "cell_type": "markdown",
   "metadata": {},
   "source": [
    "## 将字符串分割成列表\n",
    "- split  按照自定义的内容拆分"
   ]
  },
  {
   "cell_type": "markdown",
   "metadata": {},
   "source": [
    "## EP:\n",
    "![](../Photo/119.png)\n",
    "![](../Photo/120.png)"
   ]
  },
  {
   "cell_type": "code",
   "execution_count": 1,
   "metadata": {},
   "outputs": [
    {
     "data": {
      "text/plain": [
       "'ab'"
      ]
     },
     "execution_count": 1,
     "metadata": {},
     "output_type": "execute_result"
    }
   ],
   "source": [
    "a='a'\n",
    "b='b'\n",
    "a+b"
   ]
  },
  {
   "cell_type": "code",
   "execution_count": 3,
   "metadata": {},
   "outputs": [
    {
     "ename": "AttributeError",
     "evalue": "'str' object has no attribute '_mul_'",
     "output_type": "error",
     "traceback": [
      "\u001b[1;31m---------------------------------------------------------------------------\u001b[0m",
      "\u001b[1;31mAttributeError\u001b[0m                            Traceback (most recent call last)",
      "\u001b[1;32m<ipython-input-3-d53f64b300b2>\u001b[0m in \u001b[0;36m<module>\u001b[1;34m\u001b[0m\n\u001b[1;32m----> 1\u001b[1;33m \u001b[0ma\u001b[0m\u001b[1;33m.\u001b[0m\u001b[0m_mul_\u001b[0m\u001b[1;33m(\u001b[0m\u001b[1;36m10\u001b[0m\u001b[1;33m)\u001b[0m\u001b[1;33m\u001b[0m\u001b[1;33m\u001b[0m\u001b[0m\n\u001b[0m",
      "\u001b[1;31mAttributeError\u001b[0m: 'str' object has no attribute '_mul_'"
     ]
    }
   ],
   "source": [
    "a._mul_(10)"
   ]
  },
  {
   "cell_type": "markdown",
   "metadata": {},
   "source": [
    "## 列表的复制\n",
    "- copy 浅复制\n",
    "- deepcopy import copy  深复制\n",
    "- http://www.pythontutor.com/visualize.html#mode=edit"
   ]
  },
  {
   "cell_type": "markdown",
   "metadata": {},
   "source": [
    "## 列表排序\n",
    "- sort\n",
    "- sorted\n",
    "- 列表的多级排序\n",
    "    - 匿名函数"
   ]
  },
  {
   "cell_type": "markdown",
   "metadata": {},
   "source": [
    "## EP：\n",
    "- 手动排序该列表[5,3,8,0,17]，以升序或者降序"
   ]
  },
  {
   "cell_type": "markdown",
   "metadata": {},
   "source": [
    "- 1\n",
    "![](../Photo/121.png)"
   ]
  },
  {
   "cell_type": "code",
   "execution_count": 1,
   "metadata": {},
   "outputs": [
    {
     "name": "stdout",
     "output_type": "stream",
     "text": [
      "请输入成绩列表：40，55，70，58\n"
     ]
    },
    {
     "ename": "SyntaxError",
     "evalue": "invalid character in identifier (<string>, line 1)",
     "output_type": "error",
     "traceback": [
      "Traceback \u001b[1;36m(most recent call last)\u001b[0m:\n",
      "  File \u001b[0;32m\"D:\\ANAO\\lib\\site-packages\\IPython\\core\\interactiveshell.py\"\u001b[0m, line \u001b[0;32m3296\u001b[0m, in \u001b[0;35mrun_code\u001b[0m\n    exec(code_obj, self.user_global_ns, self.user_ns)\n",
      "\u001b[1;36m  File \u001b[1;32m\"<ipython-input-1-bc8f2aea75e2>\"\u001b[1;36m, line \u001b[1;32m1\u001b[1;36m, in \u001b[1;35m<module>\u001b[1;36m\u001b[0m\n\u001b[1;33m    a=eval(input('请输入成绩列表：'))\u001b[0m\n",
      "\u001b[1;36m  File \u001b[1;32m\"<string>\"\u001b[1;36m, line \u001b[1;32m1\u001b[0m\n\u001b[1;33m    40，55，70，58\u001b[0m\n\u001b[1;37m              ^\u001b[0m\n\u001b[1;31mSyntaxError\u001b[0m\u001b[1;31m:\u001b[0m invalid character in identifier\n"
     ]
    }
   ],
   "source": [
    "a=eval(input('请输入成绩列表：'))\n",
    "b=max(a)\n",
    "for i in a:\n",
    "    if i>=b-10:\n",
    "        print(i,'A级别')\n",
    "    elif i>=b-20:\n",
    "        print(i,'B级别')\n",
    "    elif i>=b-30:\n",
    "        print(i,'C级别')            \n",
    "    elif i>=b-40:\n",
    "        print(i,'D级别')\n",
    "    else:\n",
    "        print(i,'成绩为F')"
   ]
  },
  {
   "cell_type": "markdown",
   "metadata": {},
   "source": [
    "- 2\n",
    "![](../Photo/122.png)"
   ]
  },
  {
   "cell_type": "code",
   "execution_count": null,
   "metadata": {},
   "outputs": [
    {
     "name": "stdout",
     "output_type": "stream",
     "text": [
      "请输入一个整数列表：1，2，3，4，5\n"
     ]
    }
   ],
   "source": [
    "a = eval(input('请输入一个整数列表：'))\n",
    "print(a[::-1])"
   ]
  },
  {
   "cell_type": "markdown",
   "metadata": {},
   "source": [
    "- 3\n",
    "![](../Photo/123.png)"
   ]
  },
  {
   "cell_type": "code",
   "execution_count": 2,
   "metadata": {},
   "outputs": [
    {
     "name": "stdout",
     "output_type": "stream",
     "text": [
      "1 1\n",
      "2 2\n",
      "3 1\n",
      "2 2\n"
     ]
    }
   ],
   "source": [
    "a=[1,2,3,2]\n",
    "for i in a:\n",
    "    if i>100:\n",
    "        pass\n",
    "    else:\n",
    "        b=a.count(i)       \n",
    "        print(i,b) "
   ]
  },
  {
   "cell_type": "markdown",
   "metadata": {},
   "source": [
    "- 4\n",
    "![](../Photo/124.png)"
   ]
  },
  {
   "cell_type": "code",
   "execution_count": 3,
   "metadata": {},
   "outputs": [
    {
     "name": "stdout",
     "output_type": "stream",
     "text": [
      "大于平均数的值为： 0\n",
      "小于平均数的值为： 4\n"
     ]
    }
   ],
   "source": [
    "num = [1,2,3,2,3,34,43,5,2,65,]\n",
    "c = sum(num)/len(a)\n",
    "num1 = 0\n",
    "num2 = 0\n",
    "for i in a:\n",
    "    if i > c:\n",
    "        num1 += 1\n",
    "    if i < c:\n",
    "        num2 += 1   \n",
    "print('大于平均数的值为：',num1)\n",
    "print('小于平均数的值为：',num2)"
   ]
  },
  {
   "cell_type": "markdown",
   "metadata": {},
   "source": [
    "- 5\n",
    "![](../Photo/125.png)"
   ]
  },
  {
   "cell_type": "code",
   "execution_count": 5,
   "metadata": {},
   "outputs": [],
   "source": [
    "import random"
   ]
  },
  {
   "cell_type": "code",
   "execution_count": 6,
   "metadata": {},
   "outputs": [
    {
     "data": {
      "text/plain": [
       "[3,\n",
       " 9,\n",
       " 2,\n",
       " 8,\n",
       " 9,\n",
       " 9,\n",
       " 7,\n",
       " 6,\n",
       " 9,\n",
       " 6,\n",
       " 6,\n",
       " 4,\n",
       " 5,\n",
       " 8,\n",
       " 5,\n",
       " 7,\n",
       " 7,\n",
       " 1,\n",
       " 9,\n",
       " 4,\n",
       " 7,\n",
       " 5,\n",
       " 5,\n",
       " 1,\n",
       " 7,\n",
       " 2,\n",
       " 4,\n",
       " 4,\n",
       " 2,\n",
       " 2,\n",
       " 2,\n",
       " 9,\n",
       " 8,\n",
       " 0,\n",
       " 4,\n",
       " 0,\n",
       " 3,\n",
       " 8,\n",
       " 6,\n",
       " 4,\n",
       " 2,\n",
       " 8,\n",
       " 5,\n",
       " 4,\n",
       " 4,\n",
       " 7,\n",
       " 8,\n",
       " 1,\n",
       " 6,\n",
       " 1,\n",
       " 9,\n",
       " 3,\n",
       " 2,\n",
       " 1,\n",
       " 5,\n",
       " 4,\n",
       " 7,\n",
       " 1,\n",
       " 7,\n",
       " 8,\n",
       " 7,\n",
       " 4,\n",
       " 1,\n",
       " 8,\n",
       " 0,\n",
       " 4,\n",
       " 5,\n",
       " 6,\n",
       " 6,\n",
       " 1,\n",
       " 9,\n",
       " 4,\n",
       " 4,\n",
       " 0,\n",
       " 1,\n",
       " 5,\n",
       " 8,\n",
       " 8,\n",
       " 1,\n",
       " 8,\n",
       " 5,\n",
       " 0,\n",
       " 6,\n",
       " 8,\n",
       " 9,\n",
       " 2,\n",
       " 0,\n",
       " 2,\n",
       " 3,\n",
       " 5,\n",
       " 3,\n",
       " 1,\n",
       " 7,\n",
       " 0,\n",
       " 1,\n",
       " 2,\n",
       " 7,\n",
       " 9,\n",
       " 9,\n",
       " 8,\n",
       " 8,\n",
       " 6,\n",
       " 8,\n",
       " 1,\n",
       " 8,\n",
       " 2,\n",
       " 8,\n",
       " 7,\n",
       " 4,\n",
       " 6,\n",
       " 8,\n",
       " 4,\n",
       " 1,\n",
       " 1,\n",
       " 3,\n",
       " 5,\n",
       " 4,\n",
       " 5,\n",
       " 0,\n",
       " 7,\n",
       " 1,\n",
       " 0,\n",
       " 5,\n",
       " 6,\n",
       " 4,\n",
       " 8,\n",
       " 1,\n",
       " 1,\n",
       " 0,\n",
       " 2,\n",
       " 0,\n",
       " 3,\n",
       " 5,\n",
       " 7,\n",
       " 4,\n",
       " 9,\n",
       " 5,\n",
       " 6,\n",
       " 6,\n",
       " 1,\n",
       " 4,\n",
       " 6,\n",
       " 8,\n",
       " 6,\n",
       " 8,\n",
       " 8,\n",
       " 1,\n",
       " 0,\n",
       " 5,\n",
       " 2,\n",
       " 0,\n",
       " 9,\n",
       " 2,\n",
       " 7,\n",
       " 6,\n",
       " 4,\n",
       " 5,\n",
       " 7,\n",
       " 6,\n",
       " 1,\n",
       " 7,\n",
       " 5,\n",
       " 5,\n",
       " 6,\n",
       " 3,\n",
       " 4,\n",
       " 3,\n",
       " 5,\n",
       " 3,\n",
       " 7,\n",
       " 3,\n",
       " 5,\n",
       " 3,\n",
       " 2,\n",
       " 0,\n",
       " 0,\n",
       " 2,\n",
       " 0,\n",
       " 0,\n",
       " 3,\n",
       " 3,\n",
       " 1,\n",
       " 3,\n",
       " 9,\n",
       " 4,\n",
       " 1,\n",
       " 9,\n",
       " 1,\n",
       " 3,\n",
       " 5,\n",
       " 4,\n",
       " 0,\n",
       " 6,\n",
       " 6,\n",
       " 3,\n",
       " 8,\n",
       " 1,\n",
       " 6,\n",
       " 2,\n",
       " 6,\n",
       " 8,\n",
       " 2,\n",
       " 1,\n",
       " 4,\n",
       " 9,\n",
       " 5,\n",
       " 3,\n",
       " 3,\n",
       " 5,\n",
       " 0,\n",
       " 4,\n",
       " 8,\n",
       " 8,\n",
       " 5,\n",
       " 1,\n",
       " 1,\n",
       " 5,\n",
       " 4,\n",
       " 8,\n",
       " 6,\n",
       " 2,\n",
       " 4,\n",
       " 4,\n",
       " 4,\n",
       " 5,\n",
       " 5,\n",
       " 7,\n",
       " 6,\n",
       " 5,\n",
       " 4,\n",
       " 6,\n",
       " 6,\n",
       " 0,\n",
       " 3,\n",
       " 0,\n",
       " 4,\n",
       " 4,\n",
       " 2,\n",
       " 7,\n",
       " 3,\n",
       " 3,\n",
       " 2,\n",
       " 4,\n",
       " 7,\n",
       " 1,\n",
       " 6,\n",
       " 1,\n",
       " 7,\n",
       " 4,\n",
       " 0,\n",
       " 9,\n",
       " 6,\n",
       " 5,\n",
       " 8,\n",
       " 5,\n",
       " 3,\n",
       " 3,\n",
       " 1,\n",
       " 9,\n",
       " 9,\n",
       " 4,\n",
       " 2,\n",
       " 4,\n",
       " 5,\n",
       " 2,\n",
       " 7,\n",
       " 6,\n",
       " 5,\n",
       " 1,\n",
       " 1,\n",
       " 7,\n",
       " 6,\n",
       " 5,\n",
       " 0,\n",
       " 0,\n",
       " 7,\n",
       " 9,\n",
       " 8,\n",
       " 9,\n",
       " 4,\n",
       " 0,\n",
       " 7,\n",
       " 5,\n",
       " 0,\n",
       " 1,\n",
       " 4,\n",
       " 4,\n",
       " 4,\n",
       " 4,\n",
       " 7,\n",
       " 8,\n",
       " 5,\n",
       " 6,\n",
       " 8,\n",
       " 5,\n",
       " 4,\n",
       " 9,\n",
       " 9,\n",
       " 1,\n",
       " 4,\n",
       " 9,\n",
       " 6,\n",
       " 8,\n",
       " 9,\n",
       " 0,\n",
       " 3,\n",
       " 2,\n",
       " 8,\n",
       " 4,\n",
       " 7,\n",
       " 4,\n",
       " 9,\n",
       " 6,\n",
       " 6,\n",
       " 8,\n",
       " 2,\n",
       " 7,\n",
       " 7,\n",
       " 9,\n",
       " 8,\n",
       " 1,\n",
       " 8,\n",
       " 8,\n",
       " 7,\n",
       " 5,\n",
       " 0,\n",
       " 6,\n",
       " 3,\n",
       " 0,\n",
       " 0,\n",
       " 6,\n",
       " 2,\n",
       " 4,\n",
       " 3,\n",
       " 4,\n",
       " 2,\n",
       " 5,\n",
       " 9,\n",
       " 7,\n",
       " 4,\n",
       " 5,\n",
       " 4,\n",
       " 2,\n",
       " 1,\n",
       " 6,\n",
       " 5,\n",
       " 9,\n",
       " 3,\n",
       " 1,\n",
       " 8,\n",
       " 3,\n",
       " 8,\n",
       " 3,\n",
       " 7,\n",
       " 1,\n",
       " 6,\n",
       " 9,\n",
       " 2,\n",
       " 3,\n",
       " 2,\n",
       " 1,\n",
       " 7,\n",
       " 3,\n",
       " 4,\n",
       " 7,\n",
       " 1,\n",
       " 3,\n",
       " 6,\n",
       " 0,\n",
       " 0,\n",
       " 5,\n",
       " 7,\n",
       " 3,\n",
       " 3,\n",
       " 8,\n",
       " 2,\n",
       " 3,\n",
       " 3,\n",
       " 4,\n",
       " 2,\n",
       " 6,\n",
       " 9,\n",
       " 1,\n",
       " 7,\n",
       " 0,\n",
       " 4,\n",
       " 0,\n",
       " 9,\n",
       " 1,\n",
       " 8,\n",
       " 9,\n",
       " 1,\n",
       " 8,\n",
       " 6,\n",
       " 6,\n",
       " 4,\n",
       " 2,\n",
       " 6,\n",
       " 0,\n",
       " 8,\n",
       " 5,\n",
       " 9,\n",
       " 2,\n",
       " 6,\n",
       " 3,\n",
       " 3,\n",
       " 7,\n",
       " 5,\n",
       " 7,\n",
       " 1,\n",
       " 9,\n",
       " 2,\n",
       " 4,\n",
       " 5,\n",
       " 5,\n",
       " 6,\n",
       " 4,\n",
       " 2,\n",
       " 8,\n",
       " 9,\n",
       " 2,\n",
       " 2,\n",
       " 9,\n",
       " 1,\n",
       " 0,\n",
       " 0,\n",
       " 2,\n",
       " 6,\n",
       " 4,\n",
       " 5,\n",
       " 3,\n",
       " 5,\n",
       " 2,\n",
       " 8,\n",
       " 8,\n",
       " 5,\n",
       " 6,\n",
       " 2,\n",
       " 9,\n",
       " 3,\n",
       " 1,\n",
       " 1,\n",
       " 3,\n",
       " 7,\n",
       " 1,\n",
       " 9,\n",
       " 7,\n",
       " 3,\n",
       " 7,\n",
       " 0,\n",
       " 6,\n",
       " 4,\n",
       " 3,\n",
       " 3,\n",
       " 4,\n",
       " 9,\n",
       " 1,\n",
       " 9,\n",
       " 0,\n",
       " 4,\n",
       " 9,\n",
       " 1,\n",
       " 1,\n",
       " 7,\n",
       " 9,\n",
       " 2,\n",
       " 8,\n",
       " 1,\n",
       " 6,\n",
       " 7,\n",
       " 1,\n",
       " 3,\n",
       " 2,\n",
       " 2,\n",
       " 3,\n",
       " 8,\n",
       " 2,\n",
       " 3,\n",
       " 9,\n",
       " 8,\n",
       " 2,\n",
       " 0,\n",
       " 9,\n",
       " 4,\n",
       " 9,\n",
       " 5,\n",
       " 6,\n",
       " 7,\n",
       " 2,\n",
       " 0,\n",
       " 5,\n",
       " 4,\n",
       " 1,\n",
       " 9,\n",
       " 0,\n",
       " 7,\n",
       " 5,\n",
       " 6,\n",
       " 8,\n",
       " 7,\n",
       " 8,\n",
       " 6,\n",
       " 2,\n",
       " 3,\n",
       " 8,\n",
       " 1,\n",
       " 5,\n",
       " 3,\n",
       " 0,\n",
       " 7,\n",
       " 4,\n",
       " 4,\n",
       " 1,\n",
       " 7,\n",
       " 3,\n",
       " 5,\n",
       " 9,\n",
       " 5,\n",
       " 7,\n",
       " 7,\n",
       " 5,\n",
       " 7,\n",
       " 2,\n",
       " 0,\n",
       " 3,\n",
       " 4,\n",
       " 4,\n",
       " 6,\n",
       " 0,\n",
       " 4,\n",
       " 1,\n",
       " 6,\n",
       " 0,\n",
       " 4,\n",
       " 0,\n",
       " 1,\n",
       " 5,\n",
       " 0,\n",
       " 5,\n",
       " 7,\n",
       " 9,\n",
       " 8,\n",
       " 3,\n",
       " 8,\n",
       " 4,\n",
       " 9,\n",
       " 3,\n",
       " 7,\n",
       " 9,\n",
       " 4,\n",
       " 2,\n",
       " 4,\n",
       " 1,\n",
       " 2,\n",
       " 5,\n",
       " 7,\n",
       " 2,\n",
       " 6,\n",
       " 7,\n",
       " 1,\n",
       " 6,\n",
       " 6,\n",
       " 2,\n",
       " 6,\n",
       " 3,\n",
       " 0,\n",
       " 7,\n",
       " 8,\n",
       " 6,\n",
       " 8,\n",
       " 0,\n",
       " 1,\n",
       " 2,\n",
       " 9,\n",
       " 3,\n",
       " 8,\n",
       " 2,\n",
       " 3,\n",
       " 9,\n",
       " 6,\n",
       " 2,\n",
       " 8,\n",
       " 3,\n",
       " 2,\n",
       " 7,\n",
       " 2,\n",
       " 7,\n",
       " 4,\n",
       " 2,\n",
       " 6,\n",
       " 8,\n",
       " 4,\n",
       " 2,\n",
       " 1,\n",
       " 6,\n",
       " 0,\n",
       " 0,\n",
       " 2,\n",
       " 2,\n",
       " 3,\n",
       " 9,\n",
       " 0,\n",
       " 7,\n",
       " 0,\n",
       " 2,\n",
       " 1,\n",
       " 0,\n",
       " 9,\n",
       " 4,\n",
       " 9,\n",
       " 5,\n",
       " 7,\n",
       " 1,\n",
       " 8,\n",
       " 7,\n",
       " 8,\n",
       " 2,\n",
       " 4,\n",
       " 8,\n",
       " 5,\n",
       " 1,\n",
       " 1,\n",
       " 0,\n",
       " 0,\n",
       " 9,\n",
       " 1,\n",
       " 2,\n",
       " 7,\n",
       " 7,\n",
       " 2,\n",
       " 7,\n",
       " 3,\n",
       " 0,\n",
       " 1,\n",
       " 9,\n",
       " 6,\n",
       " 4,\n",
       " 7,\n",
       " 9,\n",
       " 4,\n",
       " 6,\n",
       " 0,\n",
       " 6,\n",
       " 6,\n",
       " 5,\n",
       " 3,\n",
       " 3,\n",
       " 1,\n",
       " 8,\n",
       " 8,\n",
       " 2,\n",
       " 9,\n",
       " 0,\n",
       " 4,\n",
       " 2,\n",
       " 1,\n",
       " 5,\n",
       " 5,\n",
       " 9,\n",
       " 2,\n",
       " 5,\n",
       " 2,\n",
       " 5,\n",
       " 8,\n",
       " 7,\n",
       " 6,\n",
       " 7,\n",
       " 6,\n",
       " 8,\n",
       " 3,\n",
       " 1,\n",
       " 4,\n",
       " 3,\n",
       " 2,\n",
       " 8,\n",
       " 6,\n",
       " 5,\n",
       " 9,\n",
       " 7,\n",
       " 6,\n",
       " 6,\n",
       " 0,\n",
       " 7,\n",
       " 8,\n",
       " 8,\n",
       " 0,\n",
       " 0,\n",
       " 1,\n",
       " 4,\n",
       " 5,\n",
       " 2,\n",
       " 6,\n",
       " 7,\n",
       " 5,\n",
       " 3,\n",
       " 7,\n",
       " 6,\n",
       " 1,\n",
       " 3,\n",
       " 9,\n",
       " 5,\n",
       " 5,\n",
       " 8,\n",
       " 6,\n",
       " 3,\n",
       " 8,\n",
       " 9,\n",
       " 5,\n",
       " 7,\n",
       " 1,\n",
       " 5,\n",
       " 4,\n",
       " 0,\n",
       " 3,\n",
       " 0,\n",
       " 8,\n",
       " 9,\n",
       " 9,\n",
       " 8,\n",
       " 7,\n",
       " 7,\n",
       " 5,\n",
       " 3,\n",
       " 3,\n",
       " 7,\n",
       " 1,\n",
       " 9,\n",
       " 3,\n",
       " 4,\n",
       " 5,\n",
       " 6,\n",
       " 1,\n",
       " 4,\n",
       " 9,\n",
       " 7,\n",
       " 7,\n",
       " 4,\n",
       " 5,\n",
       " 2,\n",
       " 6,\n",
       " 1,\n",
       " 2,\n",
       " 8,\n",
       " 5,\n",
       " 4,\n",
       " 1,\n",
       " 7,\n",
       " 3,\n",
       " 6,\n",
       " 3,\n",
       " 5,\n",
       " 8,\n",
       " 5,\n",
       " 5,\n",
       " 7,\n",
       " 9,\n",
       " 0,\n",
       " 6,\n",
       " 0,\n",
       " 1,\n",
       " 5,\n",
       " 6,\n",
       " 4,\n",
       " 8,\n",
       " 2,\n",
       " 9,\n",
       " 7,\n",
       " 3,\n",
       " 8,\n",
       " 4,\n",
       " 5,\n",
       " 0,\n",
       " 8,\n",
       " 3,\n",
       " 2,\n",
       " 7,\n",
       " 9,\n",
       " 6,\n",
       " 8,\n",
       " 6,\n",
       " 3,\n",
       " 5,\n",
       " 1,\n",
       " 5,\n",
       " 9,\n",
       " 0,\n",
       " 2,\n",
       " 6,\n",
       " 3,\n",
       " 4,\n",
       " 9,\n",
       " 7,\n",
       " 7,\n",
       " 3,\n",
       " 4,\n",
       " 3,\n",
       " 6,\n",
       " 1,\n",
       " 5,\n",
       " 0,\n",
       " 8,\n",
       " 0,\n",
       " 9,\n",
       " 2,\n",
       " 2,\n",
       " 9,\n",
       " 4,\n",
       " 1,\n",
       " 5,\n",
       " 1,\n",
       " 9,\n",
       " 2,\n",
       " 5,\n",
       " 7,\n",
       " 5,\n",
       " 7,\n",
       " 1,\n",
       " 8,\n",
       " 8,\n",
       " 5,\n",
       " 4,\n",
       " 1,\n",
       " 6,\n",
       " 1,\n",
       " 6,\n",
       " 1,\n",
       " 5,\n",
       " 7,\n",
       " 1,\n",
       " 7,\n",
       " 7,\n",
       " 2,\n",
       " 3,\n",
       " 5,\n",
       " 7,\n",
       " 4,\n",
       " 2,\n",
       " 1,\n",
       " 0,\n",
       " 8,\n",
       " 6,\n",
       " 3,\n",
       " 6,\n",
       " 0,\n",
       " 4,\n",
       " 3,\n",
       " 2,\n",
       " 1,\n",
       " 7,\n",
       " 5,\n",
       " 3,\n",
       " 3,\n",
       " 7,\n",
       " 3,\n",
       " 7,\n",
       " 4,\n",
       " 9,\n",
       " 7,\n",
       " 4,\n",
       " 1,\n",
       " 8,\n",
       " 2,\n",
       " 5,\n",
       " 6,\n",
       " 2,\n",
       " 0,\n",
       " 9,\n",
       " 8,\n",
       " 6,\n",
       " 9,\n",
       " 2,\n",
       " 9,\n",
       " 4,\n",
       " 2,\n",
       " 4,\n",
       " 6,\n",
       " 4,\n",
       " 7,\n",
       " 5,\n",
       " 0,\n",
       " 9,\n",
       " 0,\n",
       " 4,\n",
       " 7,\n",
       " 9,\n",
       " 9,\n",
       " 2,\n",
       " 2,\n",
       " 5,\n",
       " 4,\n",
       " 7,\n",
       " 1,\n",
       " 2,\n",
       " 9,\n",
       " 1,\n",
       " 9,\n",
       " 8,\n",
       " 3,\n",
       " 9,\n",
       " 9,\n",
       " 6,\n",
       " 4,\n",
       " 7,\n",
       " 4,\n",
       " 9,\n",
       " 1,\n",
       " 5,\n",
       " 5,\n",
       " 7,\n",
       " 2,\n",
       " 7,\n",
       " 1,\n",
       " 9,\n",
       " 6,\n",
       " 3,\n",
       " 2,\n",
       " 0,\n",
       " 2,\n",
       " 9,\n",
       " 6,\n",
       " 4,\n",
       " 4,\n",
       " 3,\n",
       " 8,\n",
       " 7,\n",
       " 1,\n",
       " 7,\n",
       " 8,\n",
       " 0,\n",
       " 0,\n",
       " 6,\n",
       " 0,\n",
       " 0,\n",
       " 2,\n",
       " 9,\n",
       " 9,\n",
       " 5,\n",
       " 6,\n",
       " 7,\n",
       " 8,\n",
       " 2,\n",
       " 7,\n",
       " 1,\n",
       " 2,\n",
       " 8,\n",
       " 5,\n",
       " 9,\n",
       " 6,\n",
       " 1,\n",
       " 5,\n",
       " 2,\n",
       " 8,\n",
       " 2,\n",
       " 7,\n",
       " 3,\n",
       " 5,\n",
       " 3,\n",
       " 8,\n",
       " 6,\n",
       " 2,\n",
       " 7,\n",
       " 7,\n",
       " 3,\n",
       " 6,\n",
       " 1,\n",
       " 8,\n",
       " 2,\n",
       " 5,\n",
       " 2,\n",
       " 5,\n",
       " 2,\n",
       " 4,\n",
       " 5,\n",
       " 2,\n",
       " 8,\n",
       " 8,\n",
       " 4,\n",
       " 7,\n",
       " 8,\n",
       " 5,\n",
       " 0,\n",
       " 3,\n",
       " 6,\n",
       " 0,\n",
       " 2,\n",
       " 8,\n",
       " 5,\n",
       " 2,\n",
       " 8,\n",
       " 5,\n",
       " 2,\n",
       " 9,\n",
       " 0,\n",
       " 1,\n",
       " 0,\n",
       " 7,\n",
       " 4,\n",
       " 7,\n",
       " 0,\n",
       " 7]"
      ]
     },
     "execution_count": 6,
     "metadata": {},
     "output_type": "execute_result"
    }
   ],
   "source": [
    "U = [random.randint(0,9) for i in range(1000) ]\n",
    "U"
   ]
  },
  {
   "cell_type": "markdown",
   "metadata": {},
   "source": [
    "- 6\n",
    "![](../Photo/126.png)"
   ]
  },
  {
   "cell_type": "code",
   "execution_count": 10,
   "metadata": {},
   "outputs": [],
   "source": [
    "def pp():\n",
    "    print('输入一个数字列表！')\n",
    "    a = input(\">>\")\n",
    "    b = min(a)\n",
    "    c = a.index(b)\n",
    "    print(c)"
   ]
  },
  {
   "cell_type": "code",
   "execution_count": 11,
   "metadata": {},
   "outputs": [
    {
     "ename": "SyntaxError",
     "evalue": "invalid syntax (<ipython-input-11-241bfa16cb56>, line 1)",
     "output_type": "error",
     "traceback": [
      "\u001b[1;36m  File \u001b[1;32m\"<ipython-input-11-241bfa16cb56>\"\u001b[1;36m, line \u001b[1;32m1\u001b[0m\n\u001b[1;33m    s=pp.()\u001b[0m\n\u001b[1;37m         ^\u001b[0m\n\u001b[1;31mSyntaxError\u001b[0m\u001b[1;31m:\u001b[0m invalid syntax\n"
     ]
    }
   ],
   "source": [
    "s=pp.()"
   ]
  },
  {
   "cell_type": "markdown",
   "metadata": {},
   "source": [
    "- 7\n",
    "![](../Photo/127.png)\n",
    "![](../Photo/128.png)"
   ]
  },
  {
   "cell_type": "markdown",
   "metadata": {},
   "source": [
    "- 8\n",
    "![](../Photo/129.png)"
   ]
  },
  {
   "cell_type": "markdown",
   "metadata": {},
   "source": [
    "- 9\n",
    "![](../Photo/130.png)"
   ]
  },
  {
   "cell_type": "markdown",
   "metadata": {},
   "source": [
    "- 10\n",
    "![](../Photo/131.png)"
   ]
  },
  {
   "cell_type": "markdown",
   "metadata": {},
   "source": [
    "- 11\n",
    "![](../Photo/132.png)"
   ]
  },
  {
   "cell_type": "markdown",
   "metadata": {},
   "source": [
    "- 12\n",
    "![](../Photo/133.png)"
   ]
  }
 ],
 "metadata": {
  "kernelspec": {
   "display_name": "Python 3",
   "language": "python",
   "name": "python3"
  },
  "language_info": {
   "codemirror_mode": {
    "name": "ipython",
    "version": 3
   },
   "file_extension": ".py",
   "mimetype": "text/x-python",
   "name": "python",
   "nbconvert_exporter": "python",
   "pygments_lexer": "ipython3",
   "version": "3.7.3"
  }
 },
 "nbformat": 4,
 "nbformat_minor": 2
}
