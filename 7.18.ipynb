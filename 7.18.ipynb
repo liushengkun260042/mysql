{
 "cells": [
  {
   "cell_type": "markdown",
   "metadata": {},
   "source": [
    "# 选择\n",
    "## 布尔类型、数值和表达式\n",
    "![](../Photo/33.png)\n",
    "- 注意：比较运算符的相等是两个等号，一个等到代表赋值\n",
    "- 在Python中可以用整型0来代表False，其他数字来代表True\n",
    "- 后面还会讲到 is 在判断语句中的用发"
   ]
  },
  {
   "cell_type": "code",
   "execution_count": 1,
   "metadata": {},
   "outputs": [
    {
     "name": "stdout",
     "output_type": "stream",
     "text": [
      "1475046880 1475046880\n"
     ]
    }
   ],
   "source": [
    "a = id(1)\n",
    "b = id(1) #a b 不是同一个对象   a is b\n",
    "print(a,b)"
   ]
  },
  {
   "cell_type": "code",
   "execution_count": 2,
   "metadata": {},
   "outputs": [
    {
     "data": {
      "text/plain": [
       "False"
      ]
     },
     "execution_count": 2,
     "metadata": {},
     "output_type": "execute_result"
    }
   ],
   "source": [
    "a = \"joker\"\n",
    "b = \"joker\"\n",
    "a > b"
   ]
  },
  {
   "cell_type": "code",
   "execution_count": 3,
   "metadata": {},
   "outputs": [
    {
     "data": {
      "text/plain": [
       "True"
      ]
     },
     "execution_count": 3,
     "metadata": {},
     "output_type": "execute_result"
    }
   ],
   "source": [
    "a = \"joker\"\n",
    "b = \"ac\"\n",
    "a > b"
   ]
  },
  {
   "cell_type": "markdown",
   "metadata": {},
   "source": [
    "## 字符串的比较使用ASCII值"
   ]
  },
  {
   "cell_type": "markdown",
   "metadata": {},
   "source": [
    "## Markdown \n",
    "- https://github.com/younghz/Markdown"
   ]
  },
  {
   "cell_type": "markdown",
   "metadata": {},
   "source": [
    "y = a + k"
   ]
  },
  {
   "cell_type": "markdown",
   "metadata": {},
   "source": [
    "## EP:\n",
    "- <img src=\"../Photo/34.png\"></img>\n",
    "- 输入一个数字，判断其实奇数还是偶数"
   ]
  },
  {
   "cell_type": "markdown",
   "metadata": {},
   "source": [
    "## 产生随机数字\n",
    "- 函数random.randint(a,b) 可以用来产生一个a和b之间且包括a和b的随机整数"
   ]
  },
  {
   "cell_type": "markdown",
   "metadata": {},
   "source": [
    "产生一个随机数，你去输入，如果你输入的数大于随机数，那么就告诉你太大了，反之，太小了，\n",
    "然后你一直输入，知道它满意为止"
   ]
  },
  {
   "cell_type": "code",
   "execution_count": 1,
   "metadata": {},
   "outputs": [
    {
     "name": "stdout",
     "output_type": "stream",
     "text": [
      ">>2\n",
      "7\n",
      "太小了\n",
      ">>3\n",
      "9\n",
      "太小了\n",
      ">>4\n",
      "3\n",
      "太大了\n",
      ">>5\n",
      "5\n",
      "正好\n"
     ]
    }
   ],
   "source": [
    "for i in range(5):\n",
    "    import random\n",
    "    number = eval(input('>>'))\n",
    "    b = random.randint(0,20)\n",
    "    print(b)\n",
    "    if number > b:\n",
    "        print('太大了')\n",
    "    if number < b:\n",
    "        print('太小了')\n",
    "    if number == b:\n",
    "        print('正好')\n",
    "        break"
   ]
  },
  {
   "cell_type": "markdown",
   "metadata": {},
   "source": [
    "######  其他random方法\n",
    "- random.random 返回0.0到1.0之间前闭后开区间的随机浮点\n",
    "- random.randrange(a,b) 前闭后开"
   ]
  },
  {
   "cell_type": "code",
   "execution_count": 2,
   "metadata": {},
   "outputs": [
    {
     "data": {
      "text/plain": [
       "0.8894443824040208"
      ]
     },
     "execution_count": 2,
     "metadata": {},
     "output_type": "execute_result"
    }
   ],
   "source": [
    "random.random()"
   ]
  },
  {
   "cell_type": "markdown",
   "metadata": {},
   "source": [
    "## EP：\n",
    "- 产生两个随机整数number1和number2，然后显示给用户，使用户输入数字的和，并判定其是否正确\n",
    "- 进阶:写一个随机序号点名程序"
   ]
  },
  {
   "cell_type": "code",
   "execution_count": null,
   "metadata": {},
   "outputs": [],
   "source": [
    "import random\n",
    "number_1 = random.randrange(0,10)\n",
    "number_2 =random.randrange(0,10)\n",
    "print(number_1,number_2)\n",
    "while 1:\n",
    "    if number == (number_1+number_2):\n",
    "        print('正确')\n",
    "    else:\n",
    "        print('错误')"
   ]
  },
  {
   "cell_type": "code",
   "execution_count": null,
   "metadata": {},
   "outputs": [],
   "source": [
    "import random\n",
    "while 1:\n",
    "    number = eval(input('请输入一个数:'))\n",
    "    number_1 = random.randrange(0,10)\n",
    "    number_2 =random.randrange(0,10)\n",
    "    print(number_1,number_2)\n",
    "    if number == (number_1+number_2):\n",
    "        print('正确')\n",
    "    else:\n",
    "        print('错误')"
   ]
  },
  {
   "cell_type": "markdown",
   "metadata": {},
   "source": [
    "## if语句\n",
    "- 如果条件正确就执行一个单向if语句，亦即当条件为真的时候才执行if内部的语句\n",
    "- Python有很多选择语句:\n",
    "> - 单向if \n",
    "  - 双向if-else\n",
    "  - 嵌套if\n",
    "  - 多向if-elif-else\n",
    "  \n",
    "- 注意：当语句含有子语句的时候，那么一定至少要有一个缩进，也就是说如果有儿子存在，那么一定要缩进\n",
    "- 切记不可tab键和space混用，单用tab 或者 space\n",
    "- 当你输出的结果是无论if是否为真时都需要显示时，语句应该与if对齐"
   ]
  },
  {
   "cell_type": "code",
   "execution_count": 17,
   "metadata": {},
   "outputs": [
    {
     "name": "stdout",
     "output_type": "stream",
     "text": [
      "年轻吗[y/n]y\n",
      "帅否[y/n]n\n",
      "考虑一下\n"
     ]
    }
   ],
   "source": [
    "age = input('年轻吗[y/n]')\n",
    "if age == 'y':\n",
    "    handsome = input('帅否[y/n]')\n",
    "    if handsome == 'y':\n",
    "        wife = input('有没有老婆[y/n]')\n",
    "        if wife == 'y':\n",
    "            print('回家的诱惑')\n",
    "        else:\n",
    "                print('立马结婚')\n",
    "    else:\n",
    "            print('考虑一下')\n",
    "else:\n",
    "    print('拜拜~')"
   ]
  },
  {
   "cell_type": "markdown",
   "metadata": {},
   "source": [
    "## EP：\n",
    "- 用户输入一个数字，判断其实奇数还是偶数\n",
    "- 进阶：可以查看下4.5实例研究猜生日"
   ]
  },
  {
   "cell_type": "markdown",
   "metadata": {},
   "source": [
    "## 双向if-else 语句\n",
    "- 如果条件为真，那么走if内部语句，否则走else内部语句"
   ]
  },
  {
   "cell_type": "markdown",
   "metadata": {},
   "source": [
    "## EP：\n",
    "- 产生两个随机整数number1和number2，然后显示给用户，使用户输入数字，并判定其是否正确,如果正确打印“you‘re correct”，否则打印正确错误"
   ]
  },
  {
   "cell_type": "markdown",
   "metadata": {},
   "source": [
    "## 嵌套if 和多向if-elif-else\n",
    "![](../Photo/35.png)"
   ]
  },
  {
   "cell_type": "markdown",
   "metadata": {},
   "source": [
    "## EP：\n",
    "- 提示用户输入一个年份，然后显示表示这一年的动物\n",
    "![](../Photo/36.png)\n",
    "- 计算身体质量指数的程序\n",
    "- BMI = 以千克为单位的体重除以以米为单位的身高的平方\n",
    "![](../Photo/37.png)"
   ]
  },
  {
   "cell_type": "code",
   "execution_count": 48,
   "metadata": {},
   "outputs": [
    {
     "name": "stdout",
     "output_type": "stream",
     "text": [
      "请输入年份3\n",
      "🐖\n"
     ]
    }
   ],
   "source": [
    "year = eval(input('请输入年份'))\n",
    "if year % 12 == 0:\n",
    "        print('猴')\n",
    "elif year % 12 == 1:\n",
    "        print('🐓')\n",
    "elif year % 12 == 2:\n",
    "        print('🐕')\n",
    "elif year % 12 == 3:\n",
    "        print('🐖')\n",
    "elif year % 12 == 4:\n",
    "        print('🐀')\n",
    "elif year % 12 == 5:\n",
    "        print('🐂')\n",
    "elif year % 12 == 6:\n",
    "        print('🐆')\n",
    "elif year % 12 == 7:\n",
    "        print('🐇')\n",
    "elif year % 12 == 8:\n",
    "        print('🐉')\n",
    "elif year % 12 == 9:\n",
    "        print('蛇')\n",
    "elif year % 12 == 10:\n",
    "        print('马')\n",
    "elif year % 12 == 11:\n",
    "        print('🐏')          "
   ]
  },
  {
   "cell_type": "code",
   "execution_count": 29,
   "metadata": {},
   "outputs": [
    {
     "name": "stdout",
     "output_type": "stream",
     "text": [
      "请输入体重:44\n",
      "请输入身高m:1.73\n",
      "超轻\n"
     ]
    }
   ],
   "source": [
    "tizhong = float(input('请输入体重:'))\n",
    "shengao = float(input('请输入身高m:'))\n",
    "BMI = tizhong / shengao ** 2\n",
    "if BMI<18.5:\n",
    "    print('超轻')\n",
    "elif 18.5<=BMI<25:\n",
    "    print('标准')\n",
    "elif 25<=BMI<30:\n",
    "    print('超重')\n",
    "else:\n",
    "    print('痴肥')"
   ]
  },
  {
   "cell_type": "markdown",
   "metadata": {},
   "source": [
    "## 逻辑运算符\n",
    "![](../Photo/38.png)"
   ]
  },
  {
   "cell_type": "markdown",
   "metadata": {},
   "source": [
    "![](../Photo/39.png)\n",
    "![](../Photo/40.png)"
   ]
  },
  {
   "cell_type": "markdown",
   "metadata": {},
   "source": [
    "## EP：\n",
    "- 判定闰年：一个年份如果能被4整除但不能被100整除，或者能被400整除，那么这个年份就是闰年\n",
    "- 提示用户输入一个年份，并返回是否是闰年\n",
    "- 提示用户输入一个数字，判断其是否为水仙花数"
   ]
  },
  {
   "cell_type": "code",
   "execution_count": 57,
   "metadata": {},
   "outputs": [
    {
     "name": "stdout",
     "output_type": "stream",
     "text": [
      "请输入年份:2008\n",
      "闰年\n"
     ]
    }
   ],
   "source": [
    "year = eval(input('请输入年份:'))\n",
    "if ((year%4==0 and year%100!=0) or (year%400==0)):\n",
    "             print('闰年')\n",
    "else:\n",
    "             print('平年')"
   ]
  },
  {
   "cell_type": "code",
   "execution_count": 61,
   "metadata": {},
   "outputs": [
    {
     "name": "stdout",
     "output_type": "stream",
     "text": [
      ">>50\n",
      "是\n"
     ]
    }
   ],
   "source": [
    "number = eval(input('>>'))\n",
    "bai = number // 100\n",
    "shi = number // 10 % 10\n",
    "ge = number % 10\n",
    "if bai**3 + shi **3 +ge**3 == number:\n",
    "    print('不是水仙花数')\n",
    "else:\n",
    "    print('是')"
   ]
  },
  {
   "cell_type": "markdown",
   "metadata": {},
   "source": [
    "## 实例研究：彩票\n",
    "![](../Photo/41.png)"
   ]
  },
  {
   "cell_type": "code",
   "execution_count": 71,
   "metadata": {},
   "outputs": [
    {
     "name": "stdout",
     "output_type": "stream",
     "text": [
      "65\n",
      ">>55\n",
      "10000\n"
     ]
    }
   ],
   "source": [
    "import random\n",
    "number= random.randrange(0,99)\n",
    "print(number)\n",
    "N = input('>>')\n",
    "number_shi = number // 10\n",
    "number_ge = number % 10\n",
    "if N[0] == 0:\n",
    "    N_shi = 0\n",
    "else:\n",
    "    N_shi = int(N) // 10\n",
    "    N_ge = int(N) % 10    \n",
    "if number ==int(N):\n",
    "    print('10000')       \n",
    "elif number_shi + number_ge == N_shi + N_ge:\n",
    "    print('30000')\n",
    "elif (number_ge == N_ge or number_ge == N_shi) or (number_shi == N_ge or number_shi == N_shi):\n",
    "    print('10000')"
   ]
  },
  {
   "cell_type": "markdown",
   "metadata": {},
   "source": [
    "# Homework\n",
    "- 1\n",
    "![](../Photo/42.png)"
   ]
  },
  {
   "cell_type": "code",
   "execution_count": 11,
   "metadata": {},
   "outputs": [
    {
     "name": "stdout",
     "output_type": "stream",
     "text": [
      ">>a,>>b,>>c 1,2,1\n",
      "-1\n"
     ]
    }
   ],
   "source": [
    "import math\n",
    "a,b,c = eval(input('>>a,>>b,>>c '))\n",
    "number_1 = b*b-4*a*c\n",
    "if number_1 > 0:\n",
    "    x1 = (-b+math.sqrt(number_1))/(2*a)\n",
    "    x2 = (-b-math.sqrt(number_1))/(2*a)\n",
    "    print(round(x1,5),round(x2,5))\n",
    "elif number_1 == 0:\n",
    "    x3 = (-b + math.sqrt(number_1))/(2*a)\n",
    "    print(round(x3))\n",
    "elif  number_1 < 0:\n",
    "    print('equrtion has no roots')"
   ]
  },
  {
   "cell_type": "markdown",
   "metadata": {},
   "source": [
    "- 2\n",
    "![](../Photo/43.png)"
   ]
  },
  {
   "cell_type": "code",
   "execution_count": 6,
   "metadata": {},
   "outputs": [
    {
     "name": "stdout",
     "output_type": "stream",
     "text": [
      "15 20\n",
      "请输入一个数:35\n",
      "真\n"
     ]
    }
   ],
   "source": [
    "import random\n",
    "number_1 = random.randint(0,99)\n",
    "number_2 = random.randint(0,99)\n",
    "print(number_1,number_2)\n",
    "number = eval(input('请输入一个数:'))\n",
    "if (number_1 + number_2) == number:\n",
    "    print('真')\n",
    "else:\n",
    "    print('假')"
   ]
  },
  {
   "cell_type": "markdown",
   "metadata": {},
   "source": [
    "- 3\n",
    "![](../Photo/44.png)"
   ]
  },
  {
   "cell_type": "code",
   "execution_count": 12,
   "metadata": {},
   "outputs": [
    {
     "name": "stdout",
     "output_type": "stream",
     "text": [
      "请输入数字:1\n",
      "今天之后到未来某天的天数:3\n",
      "Today is 1 and the future day is Thursday\n"
     ]
    }
   ],
   "source": [
    "today = eval(input('请输入星期数字:'))\n",
    "n = eval(input('今天之后到未来某天的天数:'))\n",
    "day_f = (today + n) % 7\n",
    "if day_f == 0:\n",
    "    print('Today is',today,'and the future day is Sunday')\n",
    "elif day_f == 1:\n",
    "    print('Today is',today,'and the future day is Monday')\n",
    "elif day_f == 2:\n",
    "    print('Today is',today,'and the future day is Tuesday')\n",
    "elif day_f == 3:\n",
    "    print('Today is',today,'and the future day is Wednesday')\n",
    "elif day_f == 4:\n",
    "    print('Today is',today,'and the future day is Thursday')\n",
    "elif day_f == 5:\n",
    "    print('Today is',today,'and the future day is Friday')\n",
    "elif day_f == 6:\n",
    "    print('Today is',today,'and the future day is Saturday')"
   ]
  },
  {
   "cell_type": "markdown",
   "metadata": {},
   "source": [
    "- 4\n",
    "![](../Photo/45.png)"
   ]
  },
  {
   "cell_type": "code",
   "execution_count": 16,
   "metadata": {},
   "outputs": [
    {
     "name": "stdout",
     "output_type": "stream",
     "text": [
      "请输入第一个数：344\n",
      "请输入第二个数：555\n",
      "请输入第三个数：777\n",
      "[344, 555, 777]\n"
     ]
    }
   ],
   "source": [
    "number_1 = int(input('请输入第一个数：'))\n",
    "number_2 = int(input('请输入第二个数：'))\n",
    "number_3 = int(input('请输入第三个数：'))\n",
    "nums =[number_1,number_2,number_3]\n",
    "nums.sort()\n",
    "print(nums)"
   ]
  },
  {
   "cell_type": "markdown",
   "metadata": {},
   "source": [
    "- 5\n",
    "![](../Photo/46.png)"
   ]
  },
  {
   "cell_type": "code",
   "execution_count": 28,
   "metadata": {},
   "outputs": [
    {
     "name": "stdout",
     "output_type": "stream",
     "text": [
      "输入包1的重量和价钱：50,25\n",
      "输入包2的重量和价钱：25,12\n",
      "Package2 has the better price\n"
     ]
    }
   ],
   "source": [
    "weight1,price1 = eval(input('输入包1的重量和价钱：'))\n",
    "weight2,price2 = eval(input('输入包2的重量和价钱：'))\n",
    "per1 = price1 / weight1\n",
    "per2 = price2 / weight2\n",
    "per = per1 or per2\n",
    "if per1 > per2 or per2 > per1:\n",
    "    print('Package2 has the better price' or 'Package2 has the better price')"
   ]
  },
  {
   "cell_type": "markdown",
   "metadata": {},
   "source": [
    "- 6\n",
    "![](../Photo/47.png)"
   ]
  },
  {
   "cell_type": "code",
   "execution_count": 27,
   "metadata": {},
   "outputs": [
    {
     "name": "stdout",
     "output_type": "stream",
     "text": [
      "请输入月份:3\n",
      "请输入年份:2005\n",
      "31天\n"
     ]
    }
   ],
   "source": [
    "import random\n",
    "mouth = random.randint(1,12)\n",
    "mouth = eval(input('请输入月份:'))\n",
    "mouth1 = '31天'\n",
    "mouth2 = '29天'\n",
    "year = eval(input('请输入年份:'))\n",
    "if  year % 4 == 0:\n",
    "    not year % 100 == 0\n",
    "    mouth = 2\n",
    "    print(mouth2)\n",
    "else:\n",
    "    print(mouth1)"
   ]
  },
  {
   "cell_type": "markdown",
   "metadata": {},
   "source": [
    "- 7\n",
    "![](../Photo/48.png)"
   ]
  },
  {
   "cell_type": "code",
   "execution_count": 23,
   "metadata": {},
   "outputs": [
    {
     "name": "stdout",
     "output_type": "stream",
     "text": [
      "请输入你的猜测值{1/2}1\n",
      "正\n",
      "错误\n"
     ]
    }
   ],
   "source": [
    "import random\n",
    "number = random.choice(\"正\"or\"反\")\n",
    "number_1 = eval(input('请输入你的猜测值{1/2}'))\n",
    "print(number)\n",
    "正 = 1\n",
    "反 = 2\n",
    "if number_1 == number:\n",
    "    print('正确')\n",
    "else:\n",
    "    print('错误')"
   ]
  },
  {
   "cell_type": "markdown",
   "metadata": {},
   "source": [
    "- 8\n",
    "![](../Photo/49.png)"
   ]
  },
  {
   "cell_type": "code",
   "execution_count": 30,
   "metadata": {},
   "outputs": [
    {
     "name": "stdout",
     "output_type": "stream",
     "text": [
      "scissor(0),rock(1),paper(2):1\n",
      "The computer is paper.You are rock.The computer won\n"
     ]
    }
   ],
   "source": [
    "s = 0\n",
    "r = 1\n",
    "p = 2\n",
    "a = eval(input('scissor(0),rock(1),paper(2):'))\n",
    "if a == s:\n",
    "    print('The computer is paper.You are scissor.The computer won'or 'The computer is scissor.You are scissor too.It is a draw.'or 'The computer is rock.You are scissor.The computer won')\n",
    "elif a == r:\n",
    "    print('The computer is paper.You are rock.The computer won'or 'The computer is scissor.You are rock.You won.'or 'The computer is rock.You are rock too.It is a draw')\n",
    "elif a == p:\n",
    "    print('The computer is paper.You are paper too.It is a draw'or 'The computer is scissor.You are paper.The computer won.'or 'The computer is rock.You are paper.You won')"
   ]
  },
  {
   "cell_type": "markdown",
   "metadata": {},
   "source": [
    "- 9\n",
    "![](../Photo/50.png)"
   ]
  },
  {
   "cell_type": "markdown",
   "metadata": {},
   "source": [
    "- 10\n",
    "![](../Photo/51.png)"
   ]
  },
  {
   "cell_type": "code",
   "execution_count": null,
   "metadata": {},
   "outputs": [],
   "source": [
    "number = input('请输入一个数:')\n",
    "huase =('梅花','红桃','方块','黑桃')\n",
    "card = ('Arc','2','3','4','5','6','7','8','9','10','Jake','Queen','King')"
   ]
  },
  {
   "cell_type": "markdown",
   "metadata": {},
   "source": [
    "- 11\n",
    "![](../Photo/52.png)"
   ]
  },
  {
   "cell_type": "code",
   "execution_count": 26,
   "metadata": {},
   "outputs": [
    {
     "name": "stdout",
     "output_type": "stream",
     "text": [
      "请输入数字:121\n",
      "是回文数\n"
     ]
    }
   ],
   "source": [
    "number = input('请输入数字:')\n",
    "if number == number[::-1]:\n",
    "    print('是回文数')\n",
    "else: \n",
    "    print ('不是回文数')"
   ]
  },
  {
   "cell_type": "markdown",
   "metadata": {},
   "source": [
    "- 12\n",
    "![](../Photo/53.png)"
   ]
  },
  {
   "cell_type": "code",
   "execution_count": 23,
   "metadata": {},
   "outputs": [
    {
     "name": "stdout",
     "output_type": "stream",
     "text": [
      "请输入边长:3,4,5\n",
      "12\n"
     ]
    }
   ],
   "source": [
    "a,b,c= eval(input('请输入边长:'))\n",
    "if a+b>c and b+c>a and c+b>a:\n",
    "    len =(a + b + c)\n",
    "    print(len) \n",
    "else:\n",
    "    print('这个输入是非法的')"
   ]
  }
 ],
 "metadata": {
  "kernelspec": {
   "display_name": "Python 3",
   "language": "python",
   "name": "python3"
  },
  "language_info": {
   "codemirror_mode": {
    "name": "ipython",
    "version": 3
   },
   "file_extension": ".py",
   "mimetype": "text/x-python",
   "name": "python",
   "nbconvert_exporter": "python",
   "pygments_lexer": "ipython3",
   "version": "3.7.3"
  }
 },
 "nbformat": 4,
 "nbformat_minor": 2
}
